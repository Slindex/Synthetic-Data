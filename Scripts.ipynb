{
 "cells": [
  {
   "cell_type": "code",
   "execution_count": 51,
   "metadata": {},
   "outputs": [
    {
     "data": {
      "text/plain": [
       "<module 'Utils' from 'e:\\\\david\\\\Documents\\\\Synthetic-Data\\\\Utils.py'>"
      ]
     },
     "execution_count": 51,
     "metadata": {},
     "output_type": "execute_result"
    }
   ],
   "source": [
    "from datetime import date\n",
    "from random import choice, randint\n",
    "import Utils as ut\n",
    "import importlib\n",
    "import pandas as pd\n",
    "import os\n",
    "\n",
    "importlib.reload(ut)"
   ]
  },
  {
   "cell_type": "markdown",
   "metadata": {},
   "source": [
    "### MetaData"
   ]
  },
  {
   "cell_type": "code",
   "execution_count": 50,
   "metadata": {},
   "outputs": [],
   "source": [
    "COUNTRIES = ['CO', 'ES', 'BR', 'US']\n",
    "TYPES = ['Lentes de Contacto', 'Gotas', 'Soluciones']\n",
    "BRANDS = ['Lupa', 'Glassi', 'Bright']\n",
    "PRODUCTS = ['OptiGleam', 'VisionGuard', 'IrisBright', 'SightSoothe', 'ClearView Elite', 'EyeRevive', 'LuminEye Care', 'OptiClarity']"
   ]
  },
  {
   "cell_type": "markdown",
   "metadata": {},
   "source": [
    "### Synthetic Data"
   ]
  },
  {
   "cell_type": "code",
   "execution_count": 59,
   "metadata": {},
   "outputs": [],
   "source": [
    "sales = {}\n",
    "sales_products = {}\n",
    "invoices = {}\n",
    "users = {}"
   ]
  },
  {
   "cell_type": "code",
   "execution_count": 58,
   "metadata": {},
   "outputs": [],
   "source": [
    "def salesSynthData():\n",
    "\n",
    "    if not sales:\n",
    "        sales['sale_id'] = [1]\n",
    "        sales['user_id'] = [randint(1,800)]\n",
    "        sales['created_at'] = [ut.randomDate()]\n",
    "        sales['country'] = [choice(COUNTRIES)]\n",
    "        sales['value'] = [ut.randomValue()]\n",
    "    else:\n",
    "        sales['sale_id'].append(sales['sale_id'][-1] + 1)\n",
    "        sales['user_id'].append(randint(1,800))\n",
    "        sales['created_at'].append(ut.randomDate())\n",
    "        sales['country'].append(choice(COUNTRIES))\n",
    "        sales['value'].append(ut.randomValue())\n",
    "\n",
    "def sales_productsSynthData():\n",
    "\n",
    "    if not sales_products:\n",
    "        sales_products['item_id'] = [1]\n",
    "        sales_products['sale_id'] = [randint(1,2000)]\n",
    "        sales_products['user_id'] = [randint(1,800)]\n",
    "        sales_products['name'] = [choice(PRODUCTS)]\n",
    "        sales_products['type'] = [choice(TYPES)]\n",
    "        sales_products['brand'] = [choice(BRANDS)]\n",
    "        sales_products['qty'] = [randint(1,4)]\n",
    "        sales_products['value'] = [ut.randomPrice()]\n",
    "    else:\n",
    "        sales_products['item_id'].append(sales_products['item_id'][-1] + 1)\n",
    "        sales_products['sale_id'].append(randint(1,2000))\n",
    "        sales_products['user_id'].append(randint(1,800))\n",
    "        sales_products['name'].append(choice(PRODUCTS))\n",
    "        sales_products['type'].append(choice(TYPES))\n",
    "        sales_products['brand'].append(choice(BRANDS))\n",
    "        sales_products['qty'].append(randint(1,4))\n",
    "        sales_products['value'].append(ut.randomPrice())\n",
    "\n",
    "def invoicesSynthData():\n",
    "\n",
    "    if not invoices:\n",
    "        invoices['invoice_id'] = [1]\n",
    "        invoices['sale_id'] = [randint(1,2000)]\n",
    "        invoices['created_at'] = [ut.randomDate()]\n",
    "        invoices['value'] = [ut.randomValue()]\n",
    "    else:\n",
    "        invoices['invoice_id'].append(invoices['invoice_id'][-1] + 1)\n",
    "        invoices['sale_id'].append(randint(1,2000))\n",
    "        invoices['created_at'].append(ut.randomDate())\n",
    "        invoices['value'].append(ut.randomValue())\n",
    "\n",
    "def usersSynthData():\n",
    "\n",
    "    if not users:\n",
    "        users['user_id'] = [1]\n",
    "        users['created_at'] = [ut.randomDate()]\n",
    "        users['country'] = [choice(COUNTRIES)]\n",
    "        users['no_id'] = [randint(1000000000, 1999999999)]\n",
    "    else:\n",
    "        users['user_id'].append(users['user_id'][-1] + 1)\n",
    "        users['created_at'].append(ut.randomDate())\n",
    "        users['country'].append(choice(COUNTRIES))\n",
    "        users['no_id'].append(randint(1000000000, 1999999999))"
   ]
  },
  {
   "cell_type": "code",
   "execution_count": 60,
   "metadata": {},
   "outputs": [],
   "source": [
    "for i in range(2000):\n",
    "    salesSynthData()\n",
    "\n",
    "for i in range(5000):\n",
    "    sales_productsSynthData()\n",
    "\n",
    "for i in range(1900):\n",
    "    invoicesSynthData()\n",
    "\n",
    "for i in range(800):\n",
    "    usersSynthData()"
   ]
  },
  {
   "cell_type": "code",
   "execution_count": 20,
   "metadata": {},
   "outputs": [],
   "source": [
    "dataPath = 'data/'\n",
    "\n",
    "os.makedirs(dataPath, exist_ok=True)"
   ]
  },
  {
   "cell_type": "code",
   "execution_count": 61,
   "metadata": {},
   "outputs": [],
   "source": [
    "df = pd.DataFrame(sales)\n",
    "df.to_csv('data/sales.csv', index=False)"
   ]
  },
  {
   "cell_type": "code",
   "execution_count": 62,
   "metadata": {},
   "outputs": [],
   "source": [
    "df = pd.DataFrame(sales_products)\n",
    "df.to_csv('data/sales_products.csv', index=False)"
   ]
  },
  {
   "cell_type": "code",
   "execution_count": 63,
   "metadata": {},
   "outputs": [],
   "source": [
    "df = pd.DataFrame(invoices)\n",
    "df.to_csv('data/invoices.csv', index=False)"
   ]
  },
  {
   "cell_type": "code",
   "execution_count": 64,
   "metadata": {},
   "outputs": [],
   "source": [
    "df = pd.DataFrame(users)\n",
    "df.to_csv('data/users.csv', index=False)"
   ]
  }
 ],
 "metadata": {
  "kernelspec": {
   "display_name": "Python 3",
   "language": "python",
   "name": "python3"
  },
  "language_info": {
   "codemirror_mode": {
    "name": "ipython",
    "version": 3
   },
   "file_extension": ".py",
   "mimetype": "text/x-python",
   "name": "python",
   "nbconvert_exporter": "python",
   "pygments_lexer": "ipython3",
   "version": "3.11.5"
  }
 },
 "nbformat": 4,
 "nbformat_minor": 2
}
